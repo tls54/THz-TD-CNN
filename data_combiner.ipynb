{
 "cells": [
  {
   "cell_type": "code",
   "execution_count": 4,
   "metadata": {},
   "outputs": [
    {
     "name": "stdout",
     "output_type": "stream",
     "text": [
      "Datasets combined, shuffled, and saved to Synthetic_data_100k_1to5.pt\n"
     ]
    }
   ],
   "source": [
    "import torch\n",
    "\n",
    "# Load the two datasets\n",
    "data_4to5 = torch.load(\"data/Validation_1to3.pt\", weights_only=False)\n",
    "data_1to3 = torch.load(\"data/Validation_4to5.pt\", weights_only=False)\n",
    "\n",
    "# Combine each field\n",
    "synthetic_data = torch.cat((data_1to3[\"synthetic_data\"], data_4to5[\"synthetic_data\"]), dim=0)\n",
    "material_params = data_1to3[\"material_params\"] + data_4to5[\"material_params\"]\n",
    "num_layers = torch.cat((data_1to3[\"num_layers\"], data_4to5[\"num_layers\"]), dim=0)\n",
    "\n",
    "# Create a permutation and shuffle all fields in unison\n",
    "perm = torch.randperm(len(synthetic_data))\n",
    "synthetic_data = synthetic_data[perm]\n",
    "num_layers = num_layers[perm]\n",
    "material_params = [material_params[i] for i in perm]\n",
    "\n",
    "# Save the shuffled, combined dataset\n",
    "combined_data = {\n",
    "    \"synthetic_data\": synthetic_data,\n",
    "    \"material_params\": material_params,\n",
    "    \"num_layers\": num_layers\n",
    "}\n",
    "torch.save(combined_data, \"data/Validation_1to5.pt\")\n",
    "\n",
    "print(\"Datasets combined, shuffled, and saved to Synthetic_data_100k_1to5.pt\")"
   ]
  },
  {
   "cell_type": "code",
   "execution_count": 3,
   "metadata": {},
   "outputs": [
    {
     "name": "stdout",
     "output_type": "stream",
     "text": [
      "Combined synthetic_data shape: torch.Size([100000, 1024])\n",
      "Combined num_layers shape: torch.Size([100000])\n",
      "Total samples: 100000\n",
      "Layer label range: 1 to 5\n"
     ]
    }
   ],
   "source": [
    "# Quick check\n",
    "check = torch.load(\"data/Synthetic_data_100k_1to5.pt\", weights_only=False)\n",
    "print(f\"Combined synthetic_data shape: {check['synthetic_data'].shape}\")\n",
    "print(f\"Combined num_layers shape: {check['num_layers'].shape}\")\n",
    "print(f\"Total samples: {len(check['material_params'])}\")\n",
    "print(f\"Layer label range: {check['num_layers'].min()} to {check['num_layers'].max()}\")"
   ]
  }
 ],
 "metadata": {
  "kernelspec": {
   "display_name": "mphys",
   "language": "python",
   "name": "python3"
  },
  "language_info": {
   "codemirror_mode": {
    "name": "ipython",
    "version": 3
   },
   "file_extension": ".py",
   "mimetype": "text/x-python",
   "name": "python",
   "nbconvert_exporter": "python",
   "pygments_lexer": "ipython3",
   "version": "3.11.11"
  }
 },
 "nbformat": 4,
 "nbformat_minor": 2
}
