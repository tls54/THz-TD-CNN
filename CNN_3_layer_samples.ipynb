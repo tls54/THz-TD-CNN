{
 "cells": [
  {
   "cell_type": "markdown",
   "metadata": {},
   "source": [
    "# Test: Train CNN to find material params for a single number of layers"
   ]
  },
  {
   "cell_type": "code",
   "execution_count": 1,
   "metadata": {},
   "outputs": [],
   "source": [
    "import torch\n",
    "import torch.nn as nn\n",
    "import torch.nn.functional as F\n",
    "from torch.utils.data import TensorDataset, DataLoader, random_split\n",
    "import torch.optim as optim\n",
    "import numpy as np\n",
    "from tqdm import tqdm\n",
    "import matplotlib.pyplot as plt"
   ]
  },
  {
   "cell_type": "code",
   "execution_count": 2,
   "metadata": {},
   "outputs": [
    {
     "name": "stdout",
     "output_type": "stream",
     "text": [
      "Filtered dataset for 3-layer samples:\n",
      "Number of samples: 19993\n",
      "Shape of synthetic_data: torch.Size([19993, 1024])\n",
      "Shape of num_layers: torch.Size([19993])\n",
      "Example number of layers: tensor([3, 3, 3, 3, 3, 3, 3, 3, 3, 3])\n"
     ]
    }
   ],
   "source": [
    "# Load the dataset\n",
    "data = torch.load(\"data/Synthetic_data_100k_1to5.pt\", weights_only=False)\n",
    "\n",
    "# Extract components\n",
    "synthetic_data = data[\"synthetic_data\"]\n",
    "material_params = data[\"material_params\"]\n",
    "num_layers = data[\"num_layers\"]\n",
    "\n",
    "# Create a mask for entries with exactly 3 layers\n",
    "mask = num_layers == 3\n",
    "\n",
    "# Apply the mask to filter the data\n",
    "synthetic_data_3layers = synthetic_data[mask]\n",
    "material_params_3layers = [params for i, params in enumerate(material_params) if mask[i]]\n",
    "num_layers_3layers = num_layers[mask]\n",
    "\n",
    "# Confirm the filtering\n",
    "print(\"Filtered dataset for 3-layer samples:\")\n",
    "print(f\"Number of samples: {len(synthetic_data_3layers)}\")\n",
    "print(f\"Shape of synthetic_data: {synthetic_data_3layers.shape}\")\n",
    "print(f\"Shape of num_layers: {num_layers_3layers.shape}\")\n",
    "print(f\"Example number of layers: {num_layers_3layers[:10]}\")\n",
    "\n"
   ]
  },
  {
   "cell_type": "code",
   "execution_count": 3,
   "metadata": {},
   "outputs": [
    {
     "name": "stdout",
     "output_type": "stream",
     "text": [
      "[((4.474795207839568-0.013104228373755605j), 0.0006001358074770559), ((1.4531826326434016-0.009297615570658752j), 0.0006093181017557209), ((5.400491992529762-0.041721082325605646j), 0.0007296340700163872)]\n",
      "tensor([ 4.4748e+00, -1.3104e-02,  6.0014e-04,  1.4532e+00, -9.2976e-03,\n",
      "         6.0932e-04,  5.4005e+00, -4.1721e-02,  7.2963e-04])\n"
     ]
    }
   ],
   "source": [
    "def convert_to_nkd(params_per_sample):\n",
    "    \"\"\"\n",
    "    Convert a list of layers [(n+ik, d), ...] into a flat tensor [n1, k1, d1, ..., n3, k3, d3]\n",
    "    \"\"\"\n",
    "    nkd = []\n",
    "    for complex_n, d in params_per_sample:\n",
    "        n = complex_n.real\n",
    "        k = complex_n.imag\n",
    "        nkd.extend([n, k, d])\n",
    "    return torch.tensor(nkd, dtype=torch.float32)\n",
    "\n",
    "# Convert the list to a tensor of shape [num_samples, 9]\n",
    "targets_nkd = torch.stack([convert_to_nkd(params) for params in material_params_3layers])\n",
    "\n",
    "print(material_params_3layers[0])\n",
    "print(targets_nkd[0])"
   ]
  },
  {
   "cell_type": "code",
   "execution_count": 4,
   "metadata": {},
   "outputs": [],
   "source": [
    "class ConditionedCNN(nn.Module):\n",
    "    def __init__(self, input_length=1024, output_dim=9):\n",
    "        super().__init__()\n",
    "        self.cnn = nn.Sequential(\n",
    "            nn.Conv1d(1, 32, kernel_size=5, padding=2),\n",
    "            nn.ReLU(),\n",
    "            nn.MaxPool1d(2),\n",
    "            nn.Conv1d(32, 64, kernel_size=5, padding=2),\n",
    "            nn.ReLU(),\n",
    "            nn.MaxPool1d(2),\n",
    "            nn.Conv1d(64, 128, kernel_size=5, padding=2),\n",
    "            nn.ReLU(),\n",
    "            nn.AdaptiveAvgPool1d(1),\n",
    "        )\n",
    "        self.fc = nn.Sequential(\n",
    "            nn.Linear(128, 128),\n",
    "            nn.ReLU(),\n",
    "            nn.Dropout(0.2),\n",
    "            nn.Linear(128, output_dim)\n",
    "        )\n",
    "\n",
    "    def forward(self, x):\n",
    "        x = self.cnn(x).squeeze(-1)  # shape: [batch, 128]\n",
    "        return self.fc(x)\n",
    "    "
   ]
  },
  {
   "cell_type": "code",
   "execution_count": 5,
   "metadata": {},
   "outputs": [],
   "source": [
    "def train_conditioned_model(model, train_loader, val_loader, num_epochs=10, lr=1e-3):\n",
    "    device = torch.device(\"cuda\" if torch.cuda.is_available() else \"cpu\")\n",
    "    model.to(device)\n",
    "\n",
    "    criterion = nn.MSELoss()\n",
    "    optimizer = torch.optim.Adam(model.parameters(), lr=lr)\n",
    "\n",
    "    train_loss_hist = []\n",
    "    val_loss_hist = []\n",
    "\n",
    "    for epoch in range(num_epochs):\n",
    "        model.train()\n",
    "        running_loss = 0.0\n",
    "\n",
    "        # Training loop with tqdm progress bar\n",
    "        with tqdm(train_loader, desc=f\"Epoch {epoch+1}/{num_epochs}\", unit=\"batch\") as pbar:\n",
    "            for inputs, targets in pbar:\n",
    "                inputs = inputs.to(device)\n",
    "                targets = targets.to(device)\n",
    "\n",
    "                optimizer.zero_grad()\n",
    "                outputs = model(inputs)\n",
    "                loss = criterion(outputs, targets)\n",
    "                loss.backward()\n",
    "                optimizer.step()\n",
    "\n",
    "                running_loss += loss.item()\n",
    "                pbar.set_postfix(loss=running_loss / (pbar.n + 1))  # Running average\n",
    "\n",
    "        train_loss = running_loss / len(train_loader)\n",
    "        train_loss_hist.append(train_loss)\n",
    "\n",
    "        # Validation loop\n",
    "        model.eval()\n",
    "        val_loss = 0.0\n",
    "        with torch.no_grad():\n",
    "            for inputs, targets in val_loader:\n",
    "                inputs = inputs.to(device)\n",
    "                targets = targets.to(device)\n",
    "                outputs = model(inputs)\n",
    "                val_loss += criterion(outputs, targets).item()\n",
    "        val_loss /= len(val_loader)\n",
    "        val_loss_hist.append(val_loss)\n",
    "\n",
    "        print(f\"Epoch {epoch+1}: Train Loss = {train_loss:.4f} | Val Loss = {val_loss:.4f}\")\n",
    "\n",
    "    return train_loss_hist, val_loss_hist\n"
   ]
  },
  {
   "cell_type": "code",
   "execution_count": 6,
   "metadata": {},
   "outputs": [
    {
     "name": "stderr",
     "output_type": "stream",
     "text": [
      "Epoch 1/10: 100%|██████████| 250/250 [00:44<00:00,  5.56batch/s, loss=0.965]\n"
     ]
    },
    {
     "name": "stdout",
     "output_type": "stream",
     "text": [
      "Epoch 1: Train Loss = 0.9651 | Val Loss = 0.6710\n"
     ]
    },
    {
     "name": "stderr",
     "output_type": "stream",
     "text": [
      "Epoch 2/10: 100%|██████████| 250/250 [00:39<00:00,  6.41batch/s, loss=0.696]\n"
     ]
    },
    {
     "name": "stdout",
     "output_type": "stream",
     "text": [
      "Epoch 2: Train Loss = 0.6955 | Val Loss = 0.6584\n"
     ]
    },
    {
     "name": "stderr",
     "output_type": "stream",
     "text": [
      "Epoch 3/10: 100%|██████████| 250/250 [00:39<00:00,  6.40batch/s, loss=0.676]\n"
     ]
    },
    {
     "name": "stdout",
     "output_type": "stream",
     "text": [
      "Epoch 3: Train Loss = 0.6760 | Val Loss = 0.6300\n"
     ]
    },
    {
     "name": "stderr",
     "output_type": "stream",
     "text": [
      "Epoch 4/10: 100%|██████████| 250/250 [00:39<00:00,  6.40batch/s, loss=0.634]\n"
     ]
    },
    {
     "name": "stdout",
     "output_type": "stream",
     "text": [
      "Epoch 4: Train Loss = 0.6341 | Val Loss = 0.5939\n"
     ]
    },
    {
     "name": "stderr",
     "output_type": "stream",
     "text": [
      "Epoch 5/10: 100%|██████████| 250/250 [00:38<00:00,  6.46batch/s, loss=0.604]\n"
     ]
    },
    {
     "name": "stdout",
     "output_type": "stream",
     "text": [
      "Epoch 5: Train Loss = 0.6038 | Val Loss = 0.5590\n"
     ]
    },
    {
     "name": "stderr",
     "output_type": "stream",
     "text": [
      "Epoch 6/10: 100%|██████████| 250/250 [00:38<00:00,  6.50batch/s, loss=0.574]\n"
     ]
    },
    {
     "name": "stdout",
     "output_type": "stream",
     "text": [
      "Epoch 6: Train Loss = 0.5740 | Val Loss = 0.5133\n"
     ]
    },
    {
     "name": "stderr",
     "output_type": "stream",
     "text": [
      "Epoch 7/10: 100%|██████████| 250/250 [00:38<00:00,  6.52batch/s, loss=0.53] \n"
     ]
    },
    {
     "name": "stdout",
     "output_type": "stream",
     "text": [
      "Epoch 7: Train Loss = 0.5299 | Val Loss = 0.4893\n"
     ]
    },
    {
     "name": "stderr",
     "output_type": "stream",
     "text": [
      "Epoch 8/10: 100%|██████████| 250/250 [00:39<00:00,  6.41batch/s, loss=0.511]\n"
     ]
    },
    {
     "name": "stdout",
     "output_type": "stream",
     "text": [
      "Epoch 8: Train Loss = 0.5108 | Val Loss = 0.4635\n"
     ]
    },
    {
     "name": "stderr",
     "output_type": "stream",
     "text": [
      "Epoch 9/10: 100%|██████████| 250/250 [00:37<00:00,  6.68batch/s, loss=0.488]\n"
     ]
    },
    {
     "name": "stdout",
     "output_type": "stream",
     "text": [
      "Epoch 9: Train Loss = 0.4879 | Val Loss = 0.4513\n"
     ]
    },
    {
     "name": "stderr",
     "output_type": "stream",
     "text": [
      "Epoch 10/10: 100%|██████████| 250/250 [00:38<00:00,  6.50batch/s, loss=0.473]\n"
     ]
    },
    {
     "name": "stdout",
     "output_type": "stream",
     "text": [
      "Epoch 10: Train Loss = 0.4727 | Val Loss = 0.4479\n"
     ]
    }
   ],
   "source": [
    "# Prepare DataLoader for this structure:\n",
    "from torch.utils.data import TensorDataset, DataLoader, random_split\n",
    "# Assuming synthetic_data_3layers has shape [N, 1024]\n",
    "# Add channel dimension for Conv1D\n",
    "inputs = synthetic_data_3layers.unsqueeze(1)  # → [N, 1, 1024]\n",
    "dataset = TensorDataset(inputs, targets_nkd)\n",
    "train_ds, val_ds = random_split(dataset, [int(0.8*len(dataset)), len(dataset) - int(0.8*len(dataset))])\n",
    "\n",
    "train_loader = DataLoader(train_ds, batch_size=64, shuffle=True)\n",
    "val_loader = DataLoader(val_ds, batch_size=64)\n",
    "\n",
    "# Initialize and train\n",
    "model = ConditionedCNN()\n",
    "train_loss_hist, val_loss_hist = train_conditioned_model(model, train_loader, val_loader)"
   ]
  }
 ],
 "metadata": {
  "kernelspec": {
   "display_name": "mphys",
   "language": "python",
   "name": "python3"
  },
  "language_info": {
   "codemirror_mode": {
    "name": "ipython",
    "version": 3
   },
   "file_extension": ".py",
   "mimetype": "text/x-python",
   "name": "python",
   "nbconvert_exporter": "python",
   "pygments_lexer": "ipython3",
   "version": "3.11.11"
  }
 },
 "nbformat": 4,
 "nbformat_minor": 2
}
