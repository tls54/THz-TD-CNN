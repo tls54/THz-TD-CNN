{
 "cells": [
  {
   "cell_type": "markdown",
   "metadata": {},
   "source": [
    "# Using Autoencoder architecture to create latent representation of 1024 time domain scans"
   ]
  },
  {
   "cell_type": "markdown",
   "metadata": {},
   "source": [
    "## Proposed Approaches\n",
    "1. Classic Classification on encoder-decoder latent vector  \n",
    "- Train encoder-decoder on reconstruction task  \n",
    "- Train FCNN to classify the pulses  \n",
    "\n",
    "2. Hybrid network approach  \n",
    "- Multi-headed network to produce latent space and classify from the latent space  \n",
    "- Creates a classification focussed embedding  \n",
    "- Joint loss function (will need loss contributions to be tuned)  "
   ]
  },
  {
   "cell_type": "code",
   "execution_count": null,
   "metadata": {
    "vscode": {
     "languageId": "plaintext"
    }
   },
   "outputs": [],
   "source": []
  }
 ],
 "metadata": {
  "language_info": {
   "name": "python"
  }
 },
 "nbformat": 4,
 "nbformat_minor": 2
}
