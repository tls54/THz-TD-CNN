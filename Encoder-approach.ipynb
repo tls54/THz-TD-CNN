{
 "cells": [
  {
   "cell_type": "markdown",
   "metadata": {},
   "source": [
    "# Using Autoencoder architecture to create latent representation of 1024 time domain scans"
   ]
  },
  {
   "cell_type": "markdown",
   "metadata": {},
   "source": [
    "## Proposed Approaches\n",
    "1. Classic Classification on encoder-decoder latent vector  \n",
    "- Train encoder-decoder on reconstruction task  \n",
    "- Train FCNN to classify the pulses  \n",
    "- Train CNN based Auto-encoder and vizualize latent space\n",
    "\n",
    "2. Hybrid network approach  \n",
    "- Multi-headed network to produce latent space and classify from the latent space  \n",
    "- Creates a classification focussed embedding  \n",
    "- Joint loss function (will need loss contributions to be tuned)  "
   ]
  },
  {
   "cell_type": "code",
   "execution_count": 1,
   "metadata": {},
   "outputs": [
    {
     "data": {
      "text/plain": [
       "torch.Size([60000, 1024])"
      ]
     },
     "execution_count": 1,
     "metadata": {},
     "output_type": "execute_result"
    }
   ],
   "source": [
    "import torch\n",
    "import numpy as np\n",
    "import matplotlib.pyplot as plt\n",
    "from torch.nn import MSELoss\n",
    "from torchsummary import summary\n",
    "\n",
    "from torch.utils.data import DataLoader, TensorDataset\n",
    "from models.Encoder_decoder import Autoencoder, CNNAutoencoder, train_autoencoder\n",
    "from models.utils import identify_device, load_thz_dataset\n",
    "from Simulate import simulate_reference\n",
    "\n",
    "from models.encoder_decoder_utils import plot_latent_space, plot_latent_space_with_labels\n",
    "\n",
    "\n",
    "# Load THz pulse dataset (assumes each sample is a 1D tensor of size 1024)\n",
    "data = torch.load(\"Synthetic_data_60k.pt\", weights_only=False)\n",
    "synthetic_data = data[\"synthetic_data\"]  # [N, 1024]\n",
    "num_layers = data[\"num_layers\"]\n",
    "\n",
    "synthetic_data.shape"
   ]
  },
  {
   "cell_type": "code",
   "execution_count": null,
   "metadata": {},
   "outputs": [],
   "source": [
    "deltat = 0.0194e-12 * 4 # 4x multiple from the downsampling during dataset production\n",
    "L = synthetic_data.shape[1]\n",
    "t_axis = np.arange(0, L*deltat, deltat)\n",
    "\n",
    "\n",
    "ref_pulse = simulate_reference(L=4*L, deltat=deltat)[:L].detach().cpu().numpy()\n",
    "\n",
    "plt.figure(figsize=(12,4))\n",
    "plt.title('Example THz Time Domain pulse')\n",
    "plt.plot(t_axis*1e12, ref_pulse)\n",
    "plt.plot(t_axis*1e12, synthetic_data[0])\n",
    "plt.ylabel('Signal')\n",
    "plt.xlabel('Time, t [ps]')\n",
    "plt.show()"
   ]
  },
  {
   "cell_type": "markdown",
   "metadata": {},
   "source": [
    "## FCNN Auto-encoder"
   ]
  },
  {
   "cell_type": "code",
   "execution_count": null,
   "metadata": {},
   "outputs": [],
   "source": [
    "model_summary_FCAE = Autoencoder().to(device=identify_device())\n",
    "summary(model_summary_FCAE, input_size=(1, 1024))"
   ]
  },
  {
   "cell_type": "code",
   "execution_count": null,
   "metadata": {},
   "outputs": [],
   "source": [
    "# Create DataLoader\n",
    "dataset = TensorDataset(synthetic_data)\n",
    "FCAE_loader = DataLoader(dataset, batch_size=64, shuffle=True)\n",
    "\n",
    "# Model + training\n",
    "model = Autoencoder(input_dim=1024, latent_dim=32)\n",
    "device = identify_device()\n",
    "loss = train_autoencoder(model, FCAE_loader, device, num_epochs=50, lr=1e-5, verbose='epoch')\n",
    "\n",
    "\n",
    "# Plot the accuracy values\n",
    "plt.plot(loss)\n",
    "plt.xlabel('Epochs')\n",
    "plt.ylabel('loss')\n",
    "plt.title('Training loss Progress')\n",
    "plt.show()"
   ]
  },
  {
   "cell_type": "code",
   "execution_count": null,
   "metadata": {},
   "outputs": [],
   "source": [
    "sample_index = np.random.randint(0, len(synthetic_data))\n",
    "\n",
    "print(f'Sample Index: {sample_index}')\n",
    "\n",
    "def test_model(index):\n",
    "    real_pulse = synthetic_data[index]  \n",
    "    input_pulse = real_pulse.to(device)#.unsqueeze(0)\n",
    "\n",
    "    model.eval()\n",
    "    with torch.no_grad():\n",
    "        recon_pulse = model(input_pulse)\n",
    "\n",
    "    # Bring both to CPU and remove batch dim if added\n",
    "    recon_pulse_cpu = recon_pulse.squeeze(0).cpu()\n",
    "    real_pulse_cpu = real_pulse.cpu()\n",
    "\n",
    "\n",
    "    criterion = MSELoss()\n",
    "    loss = criterion(recon_pulse_cpu, real_pulse_cpu).item()\n",
    "    print(f'Loss between signals: {loss}')\n",
    "\n",
    "    # Convert to NumPy for plotting\n",
    "    recon_np = recon_pulse_cpu.numpy()\n",
    "    real_np = real_pulse_cpu.numpy()\n",
    "\n",
    "    plt.figure(figsize=(12,4))\n",
    "    plt.title('Example THz Time Domain pulse')\n",
    "    plt.plot(t_axis*1e12, real_np, label='Input Pulse')\n",
    "    plt.plot(t_axis*1e12, recon_np, label='Reconstructed Pulse')\n",
    "    plt.ylabel('Signal')\n",
    "    plt.xlabel('Time, t [ps]')\n",
    "    plt.legend()\n",
    "    plt.show()\n",
    "\n",
    "test_model(sample_index)"
   ]
  },
  {
   "cell_type": "code",
   "execution_count": null,
   "metadata": {},
   "outputs": [],
   "source": [
    "## NOTE: sample index: 41212  needs checking\n",
    "# Example of weak loss contributor due to low overall amplitude\n",
    "\n",
    "\n",
    "test_model(41212)"
   ]
  },
  {
   "cell_type": "code",
   "execution_count": null,
   "metadata": {},
   "outputs": [],
   "source": [
    "plot_latent_space_with_labels(model, synthetic_data, num_layers, device, 'tsne', 3000)"
   ]
  },
  {
   "cell_type": "markdown",
   "metadata": {},
   "source": [
    "## CNN Auto-encoder"
   ]
  },
  {
   "cell_type": "code",
   "execution_count": 3,
   "metadata": {},
   "outputs": [
    {
     "name": "stdout",
     "output_type": "stream",
     "text": [
      "Using device: cuda\n",
      "----------------------------------------------------------------\n",
      "        Layer (type)               Output Shape         Param #\n",
      "================================================================\n",
      "            Conv1d-1              [-1, 16, 512]              80\n",
      "              ReLU-2              [-1, 16, 512]               0\n",
      "            Conv1d-3              [-1, 32, 256]           2,080\n",
      "              ReLU-4              [-1, 32, 256]               0\n",
      "            Conv1d-5              [-1, 64, 128]           8,256\n",
      "              ReLU-6              [-1, 64, 128]               0\n",
      "           Flatten-7                 [-1, 8192]               0\n",
      "            Linear-8                   [-1, 32]         262,176\n",
      "        CNNEncoder-9                   [-1, 32]               0\n",
      "           Linear-10                 [-1, 8192]         270,336\n",
      "        Unflatten-11              [-1, 64, 128]               0\n",
      "  ConvTranspose1d-12              [-1, 32, 256]           8,224\n",
      "             ReLU-13              [-1, 32, 256]               0\n",
      "  ConvTranspose1d-14              [-1, 16, 512]           2,064\n",
      "             ReLU-15              [-1, 16, 512]               0\n",
      "  ConvTranspose1d-16              [-1, 1, 1024]              65\n",
      "       CNNDecoder-17              [-1, 1, 1024]               0\n",
      "================================================================\n",
      "Total params: 553,281\n",
      "Trainable params: 553,281\n",
      "Non-trainable params: 0\n",
      "----------------------------------------------------------------\n",
      "Input size (MB): 0.00\n",
      "Forward/backward pass size (MB): 0.83\n",
      "Params size (MB): 2.11\n",
      "Estimated Total Size (MB): 2.94\n",
      "----------------------------------------------------------------\n"
     ]
    }
   ],
   "source": [
    "device = identify_device()\n",
    "model_summary_CAE = CNNAutoencoder().to(device)\n",
    "summary(model_summary_CAE, input_size=(1, 1024))"
   ]
  },
  {
   "cell_type": "code",
   "execution_count": 4,
   "metadata": {},
   "outputs": [
    {
     "name": "stderr",
     "output_type": "stream",
     "text": [
      "Training epochs: 100%|██████████| 50/50 [01:43<00:00,  2.07s/epoch]\n"
     ]
    }
   ],
   "source": [
    "CNN_dataset = TensorDataset(synthetic_data.unsqueeze(1))\n",
    "CNN_loader = DataLoader(CNN_dataset, batch_size=64, shuffle=True)\n",
    "\n",
    "\n",
    "model_CNNAE = CNNAutoencoder(input_dim=1024, latent_dim=32)\n",
    "model_CNNAE.to(device)\n",
    "loss = train_autoencoder(model_CNNAE, CNN_loader, device, num_epochs=50, lr=1e-5, verbose='epoch')"
   ]
  },
  {
   "cell_type": "code",
   "execution_count": 5,
   "metadata": {},
   "outputs": [
    {
     "data": {
      "image/png": "[encoded data removed]",
      "text/plain": [
       "<Figure size 640x480 with 1 Axes>"
      ]
     },
     "metadata": {},
     "output_type": "display_data"
    }
   ],
   "source": [
    "# Plot the accuracy values\n",
    "plt.plot(loss)\n",
    "plt.xlabel('Epochs')\n",
    "plt.ylabel('loss')\n",
    "plt.title('Training loss Progress')\n",
    "plt.show()"
   ]
  }
 ],
 "metadata": {
  "kernelspec": {
   "display_name": "modelling",
   "language": "python",
   "name": "python3"
  },
  "language_info": {
   "codemirror_mode": {
    "name": "ipython",
    "version": 3
   },
   "file_extension": ".py",
   "mimetype": "text/x-python",
   "name": "python",
   "nbconvert_exporter": "python",
   "pygments_lexer": "ipython3",
   "version": "3.12.9"
  }
 },
 "nbformat": 4,
 "nbformat_minor": 2
}
