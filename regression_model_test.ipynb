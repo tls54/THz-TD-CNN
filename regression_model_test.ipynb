{
 "cells": [
  {
   "cell_type": "markdown",
   "metadata": {},
   "source": [
    "# Testing regression model"
   ]
  },
  {
   "cell_type": "code",
   "execution_count": 1,
   "metadata": {},
   "outputs": [],
   "source": [
    "import torch\n",
    "import matplotlib.pyplot as plt\n",
    "from torch.utils.data import DataLoader\n",
    "from models.utils import identify_device\n",
    "from models.regression_utils import test_regression_model, load_regression_dataset, print_metrics_table\n",
    "from models.Regression_models import CNN1D_Regressor"
   ]
  },
  {
   "cell_type": "code",
   "execution_count": 2,
   "metadata": {},
   "outputs": [
    {
     "data": {
      "text/plain": [
       "'c:\\\\Users\\\\VECSEL\\\\Documents\\\\Theo\\\\ML\\\\THz-TD-CNN'"
      ]
     },
     "execution_count": 2,
     "metadata": {},
     "output_type": "execute_result"
    }
   ],
   "source": [
    "import os \n",
    "os.getcwd()"
   ]
  },
  {
   "cell_type": "code",
   "execution_count": 3,
   "metadata": {},
   "outputs": [
    {
     "name": "stdout",
     "output_type": "stream",
     "text": [
      "Loading data from regression_data/unseen_3_layer_nonoise_n1to8.pt\n",
      "Dataset loaded successfully!\n",
      "Number of samples: 5000\n",
      "Shape of input pulse: torch.Size([1, 1024]), target vector: torch.Size([9])\n",
      "\n",
      "=== Scaled-domain metrics ===\n",
      "| Param   |   RMSE |    MAE |     R² |\n",
      "|---------|--------|--------|--------|\n",
      "| n1      | 0.2105 | 0.1738 | 0.459  |\n",
      "| k1      | 0.2352 | 0.1951 | 0.3325 |\n",
      "| d1      | 0.2282 | 0.1892 | 0.3735 |\n",
      "| n2      | 0.1098 | 0.0816 | 0.8493 |\n",
      "| k2      | 0.2039 | 0.1626 | 0.5049 |\n",
      "| d2      | 0.1748 | 0.1358 | 0.6215 |\n",
      "| n3      | 0.21   | 0.1723 | 0.4604 |\n",
      "| k3      | 0.2357 | 0.1941 | 0.3284 |\n",
      "| d3      | 0.2303 | 0.1898 | 0.3635 |\n",
      "| Mean    | 0.2043 | 0.1661 | 0.477  |\n",
      "\n",
      "=== Unscaled-domain metrics ===\n",
      "| Param   |   RMSE |    MAE |     R² |     NRMSE |   MaxErr |   P95Err |\n",
      "|---------|--------|--------|--------|-----------|----------|----------|\n",
      "| n1      | 0.8521 | 0.4149 | 0.8776 |    0.1217 |   3.9773 |   2.1876 |\n",
      "| k1      | 0.9453 | 0.4619 | 0.8488 |    9.3597 |   4.6566 |   2.3854 |\n",
      "| d1      | 0.9358 | 0.456  | 0.8532 | 2079.65   |   4.7147 |   2.3108 |\n",
      "| n2      | 0.4494 | 0.1963 | 0.966  |    0.0642 |   4.7288 |   1.0266 |\n",
      "| k2      | 0.8163 | 0.3807 | 0.8856 |    8.0817 |   5.1105 |   2.0112 |\n",
      "| d2      | 0.7372 | 0.3349 | 0.9073 | 1638.13   |   4.9226 |   1.8772 |\n",
      "| n3      | 0.8529 | 0.4114 | 0.8783 |    0.1218 |   4.2961 |   2.1687 |\n",
      "| k3      | 0.9455 | 0.455  | 0.8476 |    9.3615 |   4.9074 |   2.3849 |\n",
      "| d3      | 0.9214 | 0.4471 | 0.8593 | 2047.57   |   4.5142 |   2.281  |\n",
      "| Mean    | 0.8284 | 0.3954 | 0.8804 |  643.606  |   4.6476 |   2.0704 |\n"
     ]
    }
   ],
   "source": [
    "device = torch.device('cpu')\n",
    "model = CNN1D_Regressor()\n",
    "trained_model_name = 'regression_model_train_on_100k_clean_lr0_0001_epochs_200'\n",
    "unseen_dataset_name = 'unseen_3_layer_nonoise_n1to8'\n",
    "training_dataset = 'train_3_layer_nonoise_n1to8'\n",
    "\n",
    "dataset = load_regression_dataset(f'regression_data/{unseen_dataset_name}.pt')\n",
    "unseen_loader = DataLoader(dataset, batch_size=256)\n",
    "\n",
    "model.load_state_dict(torch.load(f'trained_models/{trained_model_name}.pth', map_location=torch.device('cpu')))\n",
    "model.to(device)\n",
    "\n",
    "metrics, results = test_regression_model(model, unseen_loader, device)\n",
    "print_metrics_table(metrics, num_layers=3)"
   ]
  },
  {
   "cell_type": "code",
   "execution_count": 9,
   "metadata": {},
   "outputs": [
    {
     "data": {
      "text/plain": [
       "9"
      ]
     },
     "execution_count": 9,
     "metadata": {},
     "output_type": "execute_result"
    }
   ],
   "source": [
    "len(results['preds_unscaled'])"
   ]
  }
 ],
 "metadata": {
  "kernelspec": {
   "display_name": "modelling",
   "language": "python",
   "name": "python3"
  },
  "language_info": {
   "codemirror_mode": {
    "name": "ipython",
    "version": 3
   },
   "file_extension": ".py",
   "mimetype": "text/x-python",
   "name": "python",
   "nbconvert_exporter": "python",
   "pygments_lexer": "ipython3",
   "version": "3.12.9"
  }
 },
 "nbformat": 4,
 "nbformat_minor": 2
}
