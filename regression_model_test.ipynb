{
 "cells": [
  {
   "cell_type": "markdown",
   "metadata": {},
   "source": [
    "# Testing regression model"
   ]
  },
  {
   "cell_type": "code",
   "execution_count": 1,
   "metadata": {},
   "outputs": [
    {
     "ename": "ImportError",
     "evalue": "cannot import name 'CNN1D_Regressor' from 'models.Regression_models' (c:\\Users\\VECSEL\\Documents\\Theo\\ML\\THz-TD-CNN\\models\\Regression_models.py)",
     "output_type": "error",
     "traceback": [
      "\u001b[31m---------------------------------------------------------------------------\u001b[39m",
      "\u001b[31mImportError\u001b[39m                               Traceback (most recent call last)",
      "\u001b[36mCell\u001b[39m\u001b[36m \u001b[39m\u001b[32mIn[1]\u001b[39m\u001b[32m, line 8\u001b[39m\n\u001b[32m      6\u001b[39m \u001b[38;5;28;01mfrom\u001b[39;00m\u001b[38;5;250m \u001b[39m\u001b[34;01mmodels\u001b[39;00m\u001b[34;01m.\u001b[39;00m\u001b[34;01mutils\u001b[39;00m\u001b[38;5;250m \u001b[39m\u001b[38;5;28;01mimport\u001b[39;00m identify_device\n\u001b[32m      7\u001b[39m \u001b[38;5;28;01mfrom\u001b[39;00m\u001b[38;5;250m \u001b[39m\u001b[34;01mmodels\u001b[39;00m\u001b[34;01m.\u001b[39;00m\u001b[34;01mregression_utils\u001b[39;00m\u001b[38;5;250m \u001b[39m\u001b[38;5;28;01mimport\u001b[39;00m test_regression_model, load_regression_dataset, print_metrics_table, denormalize_material_params, normalize_material_params\n\u001b[32m----> \u001b[39m\u001b[32m8\u001b[39m \u001b[38;5;28;01mfrom\u001b[39;00m\u001b[38;5;250m \u001b[39m\u001b[34;01mmodels\u001b[39;00m\u001b[34;01m.\u001b[39;00m\u001b[34;01mRegression_models\u001b[39;00m\u001b[38;5;250m \u001b[39m\u001b[38;5;28;01mimport\u001b[39;00m CNN1D_Regressor\n\u001b[32m      9\u001b[39m \u001b[38;5;28;01mfrom\u001b[39;00m\u001b[38;5;250m \u001b[39m\u001b[34;01mmodels\u001b[39;00m\u001b[34;01m.\u001b[39;00m\u001b[34;01mutils\u001b[39;00m\u001b[38;5;250m \u001b[39m\u001b[38;5;28;01mimport\u001b[39;00m display_model\n\u001b[32m     10\u001b[39m \u001b[38;5;28;01mfrom\u001b[39;00m\u001b[38;5;250m \u001b[39m\u001b[34;01mtorch\u001b[39;00m\u001b[34;01m.\u001b[39;00m\u001b[34;01mnn\u001b[39;00m\u001b[38;5;250m \u001b[39m\u001b[38;5;28;01mimport\u001b[39;00m MSELoss\n",
      "\u001b[31mImportError\u001b[39m: cannot import name 'CNN1D_Regressor' from 'models.Regression_models' (c:\\Users\\VECSEL\\Documents\\Theo\\ML\\THz-TD-CNN\\models\\Regression_models.py)"
     ]
    }
   ],
   "source": [
    "import numpy as np\n",
    "import torch\n",
    "import matplotlib.pyplot as plt\n",
    "import seaborn as sns\n",
    "from torch.utils.data import DataLoader\n",
    "from models.utils import identify_device\n",
    "from models.regression_utils import test_regression_model, load_regression_dataset, print_metrics_table, denormalize_material_params, normalize_material_params\n",
    "from models.Regression_models import CNN1D_Regressor\n",
    "from models.utils import display_model\n",
    "from torch.nn import MSELoss"
   ]
  },
  {
   "cell_type": "code",
   "execution_count": null,
   "metadata": {},
   "outputs": [],
   "source": [
    "device = torch.device('cpu')\n",
    "model = CNN1D_Regressor()\n",
    "trained_model_name = 'regression_model_train_on_0k_clean_lr0_001_epochs_200'\n",
    "unseen_dataset_name = 'unseen_3_layer_nonoise_n1to8'\n",
    "training_dataset = 'train_3_layer_nonoise_n1to8'\n",
    "\n",
    "\n",
    "dataset = load_regression_dataset(f'regression_data/{unseen_dataset_name}.pt') # loads data and normalizes targets in dataset\n",
    "unseen_loader = DataLoader(dataset, batch_size=1024)\n",
    "\n",
    "model.load_state_dict(torch.load(f'trained_models/{trained_model_name}.pth', map_location=torch.device('cpu')))\n",
    "model.to(device)\n",
    "\n",
    "display_model(model, device=device)"
   ]
  },
  {
   "cell_type": "code",
   "execution_count": null,
   "metadata": {},
   "outputs": [],
   "source": [
    "metrics, results = test_regression_model(model, unseen_loader, device)\n",
    "print_metrics_table(metrics, num_layers=3)"
   ]
  },
  {
   "cell_type": "code",
   "execution_count": null,
   "metadata": {},
   "outputs": [],
   "source": [
    "index = 1\n",
    "test_example_pulse = dataset[index][0]\n",
    "test_example_true_vals = dataset[index][1]\n",
    "\n",
    "\n",
    "print(denormalize_material_params(test_example_true_vals))\n",
    "\n",
    "model.eval()\n",
    "with torch.no_grad():\n",
    "    pulse = test_example_pulse.unsqueeze(0).to(device)  # adjust based on original shape\n",
    "    pred = model(pulse)\n",
    "    pred = pred[0]\n",
    "print(test_example_true_vals)\n",
    "print(pred)"
   ]
  },
  {
   "cell_type": "code",
   "execution_count": null,
   "metadata": {},
   "outputs": [],
   "source": [
    "# Which to plot: change keys here\n",
    "preds = results['preds_unscaled'].clone()\n",
    "targets = results['targets_unscaled'].clone()\n",
    "\n",
    "# Parameter labels and types\n",
    "param_labels = [\n",
    "    r\"$n_1$\", r\"$k_1$\", r\"$d_1$ [$\\mu$m]\",\n",
    "    r\"$n_2$\", r\"$k_2$\", r\"$d_2$ [$\\mu$m]\",\n",
    "    r\"$n_3$\", r\"$k_3$\", r\"$d_3$ [$\\mu$m]\"\n",
    "]\n",
    "thickness_indices = [2, 5, 8]  # positions of d1, d2, d3\n",
    "\n",
    "# Convert thickness values from m → μm for plotting\n",
    "preds_plot = preds.clone()\n",
    "targets_plot = targets.clone()\n",
    "preds_plot[:, thickness_indices] *= 1e6\n",
    "targets_plot[:, thickness_indices] *= 1e6\n",
    "\n",
    "# Create figure\n",
    "fig, axes = plt.subplots(3, 3, figsize=(12, 12))\n",
    "axes = axes.flatten()\n",
    "\n",
    "for i in range(9):\n",
    "    ax = axes[i]\n",
    "    sns.scatterplot(\n",
    "        x=targets_plot[:, i],\n",
    "        y=preds_plot[:, i],\n",
    "        ax=ax,\n",
    "        s=5, color='blue', alpha=0.6, edgecolor=None\n",
    "    )\n",
    "\n",
    "    # Add 45° perfect prediction line\n",
    "    min_val = min(targets_plot[:, i].min(), preds_plot[:, i].min())\n",
    "    max_val = max(targets_plot[:, i].max(), preds_plot[:, i].max())\n",
    "    ax.plot([min_val, max_val], [min_val, max_val], 'r--', lw=1)\n",
    "\n",
    "    ax.set_xlabel(f\"Target {param_labels[i]}\")\n",
    "    ax.set_ylabel(f\"Predicted {param_labels[i]}\")\n",
    "    ax.set_title(param_labels[i])\n",
    "    ax.set_aspect('equal', adjustable='box')\n",
    "\n",
    "plt.tight_layout()\n",
    "plt.show()"
   ]
  }
 ],
 "metadata": {
  "kernelspec": {
   "display_name": "modelling",
   "language": "python",
   "name": "python3"
  },
  "language_info": {
   "codemirror_mode": {
    "name": "ipython",
    "version": 3
   },
   "file_extension": ".py",
   "mimetype": "text/x-python",
   "name": "python",
   "nbconvert_exporter": "python",
   "pygments_lexer": "ipython3",
   "version": "3.11.11"
  }
 },
 "nbformat": 4,
 "nbformat_minor": 2
}
