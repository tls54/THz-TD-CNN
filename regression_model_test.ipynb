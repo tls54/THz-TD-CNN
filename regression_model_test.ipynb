{
 "cells": [
  {
   "cell_type": "markdown",
   "metadata": {},
   "source": [
    "# Testing regression model"
   ]
  },
  {
   "cell_type": "code",
   "execution_count": 1,
   "metadata": {},
   "outputs": [],
   "source": [
    "import torch\n",
    "import matplotlib.pyplot as plt\n",
    "from torch.utils.data import DataLoader\n",
    "from models.utils import identify_device\n",
    "from models.regression_utils import test_regression_model, load_regression_dataset, print_metrics_table\n",
    "from models.Regression_models import CNN1D_Regressor"
   ]
  },
  {
   "cell_type": "code",
   "execution_count": 2,
   "metadata": {},
   "outputs": [
    {
     "data": {
      "text/plain": [
       "'/Users/theosmith/Documents/MPhys_YiER_Project/Coding/THz-TD-CNN'"
      ]
     },
     "execution_count": 2,
     "metadata": {},
     "output_type": "execute_result"
    }
   ],
   "source": [
    "import os \n",
    "os.getcwd()"
   ]
  },
  {
   "cell_type": "code",
   "execution_count": 5,
   "metadata": {},
   "outputs": [
    {
     "name": "stdout",
     "output_type": "stream",
     "text": [
      "Loading data from regression_data/unseen_3_layer_nonoise_n1to8.pt\n",
      "Dataset loaded successfully!\n",
      "Number of samples: 5000\n",
      "Shape of input pulse: torch.Size([1, 1024]), target vector: torch.Size([9])\n",
      "\n",
      "=== Scaled-domain metrics ===\n",
      "| Param   |   RMSE |    MAE |     R² |\n",
      "|---------|--------|--------|--------|\n",
      "| n1      | 0.2109 | 0.172  | 0.4428 |\n",
      "| k1      | 0.249  | 0.2081 | 0.2614 |\n",
      "| d1      | 0.2348 | 0.1962 | 0.3425 |\n",
      "| n2      | 0.1341 | 0.0992 | 0.7785 |\n",
      "| k2      | 0.242  | 0.1998 | 0.2939 |\n",
      "| d2      | 0.2107 | 0.169  | 0.4613 |\n",
      "| n3      | 0.215  | 0.1754 | 0.4436 |\n",
      "| k3      | 0.2505 | 0.209  | 0.2523 |\n",
      "| d3      | 0.237  | 0.1974 | 0.3299 |\n",
      "| Mean    | 0.2204 | 0.1807 | 0.4007 |\n",
      "\n",
      "=== Unscaled-domain metrics ===\n",
      "| Param   |   RMSE |    MAE |     R² |     NRMSE |   MaxErr |   P95Err |\n",
      "|---------|--------|--------|--------|-----------|----------|----------|\n",
      "| n1      | 0.8642 | 0.4125 | 0.8749 |    0.1235 |   4.3758 |   2.1891 |\n",
      "| k1      | 1.0091 | 0.4989 | 0.8323 |    9.9915 |   4.8134 |   2.5122 |\n",
      "| d1      | 0.9434 | 0.4643 | 0.8476 | 2096.52   |   4.6152 |   2.2822 |\n",
      "| n2      | 0.5548 | 0.2404 | 0.9478 |    0.0793 |   4.9225 |   1.314  |\n",
      "| k2      | 0.9833 | 0.4784 | 0.8402 |    9.7359 |   4.7857 |   2.4518 |\n",
      "| d2      | 0.8638 | 0.4078 | 0.8723 | 1919.57   |   4.772  |   2.2199 |\n",
      "| n3      | 0.8775 | 0.4193 | 0.8745 |    0.1254 |   4.901  |   2.2276 |\n",
      "| k3      | 1.0002 | 0.487  | 0.8308 |    9.9028 |   4.7854 |   2.5606 |\n",
      "| d3      | 0.9597 | 0.4682 | 0.8446 | 2132.68   |   4.803  |   2.4292 |\n",
      "| Mean    | 0.8951 | 0.4308 | 0.8628 |  686.525  |   4.7527 |   2.243  |\n"
     ]
    }
   ],
   "source": [
    "device = torch.device('cpu')\n",
    "model = CNN1D_Regressor()\n",
    "trained_model_name = 'regression_model_train_on_30k_clean_lr0_0001_epochs_200'\n",
    "unseen_dataset_name = 'unseen_3_layer_nonoise_n1to8'\n",
    "training_dataset = 'train_3_layer_nonoise_n1to8'\n",
    "\n",
    "dataset = load_regression_dataset(f'regression_data/{unseen_dataset_name}.pt')\n",
    "unseen_loader = DataLoader(dataset, batch_size=256)\n",
    "\n",
    "model.load_state_dict(torch.load(f'trained_models/{trained_model_name}.pth', map_location=torch.device('cpu')))\n",
    "model.to(device)\n",
    "\n",
    "metrics, results = test_regression_model(model, unseen_loader, device)\n",
    "print_metrics_table(metrics, num_layers=3)"
   ]
  },
  {
   "cell_type": "code",
   "execution_count": 9,
   "metadata": {},
   "outputs": [
    {
     "data": {
      "text/plain": [
       "9"
      ]
     },
     "execution_count": 9,
     "metadata": {},
     "output_type": "execute_result"
    }
   ],
   "source": [
    "len(results['preds_unscaled'])"
   ]
  }
 ],
 "metadata": {
  "kernelspec": {
   "display_name": "mphys",
   "language": "python",
   "name": "python3"
  },
  "language_info": {
   "codemirror_mode": {
    "name": "ipython",
    "version": 3
   },
   "file_extension": ".py",
   "mimetype": "text/x-python",
   "name": "python",
   "nbconvert_exporter": "python",
   "pygments_lexer": "ipython3",
   "version": "3.11.11"
  }
 },
 "nbformat": 4,
 "nbformat_minor": 2
}
