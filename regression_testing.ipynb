{
 "cells": [
  {
   "cell_type": "markdown",
   "metadata": {},
   "source": [
    "# Regression CNN models to find initialization values for material parameter extraction"
   ]
  },
  {
   "cell_type": "code",
   "execution_count": 1,
   "metadata": {},
   "outputs": [],
   "source": [
    "import torch\n",
    "import matplotlib.pyplot as plt\n",
    "import seaborn as sns\n",
    "\n",
    "from models.regression_utils import get_train_val_loaders, load_regression_dataset, denormalize_material_params\n",
    "from models.Regression_models import PulseParameterNet, ParameterTrainer\n",
    "from models.utils import identify_device"
   ]
  },
  {
   "cell_type": "code",
   "execution_count": 2,
   "metadata": {},
   "outputs": [],
   "source": [
    "device = torch.device('cuda')"
   ]
  },
  {
   "cell_type": "code",
   "execution_count": null,
   "metadata": {},
   "outputs": [],
   "source": [
    "#file_path = \"regression_data/train_3_layer_30k_nonoise_n1to8.pt\"\n",
    "file_path = \"regression_data/train_3_layer_512_nonoise_n1to8.pt\"\n",
    "\n",
    "# Configuration\n",
    "param_ranges = {\n",
    "    'n': (1.0, 8.0),\n",
    "    'k': (-0.1, 0.001),\n",
    "    'd': (0.05e-3, 0.5e-3)\n",
    "    }\n",
    "\n",
    "dataset = load_regression_dataset(file_path)\n",
    "\n",
    "train_loader, val_loader, num_samples = get_train_val_loaders(\n",
    "    dataset_path=file_path,\n",
    "    batch_size=128,\n",
    "    val_split=0.1\n",
    ")\n",
    "\n",
    "\n",
    "print(f\"Training batches: {len(train_loader)}\")\n",
    "print(f\"Validation batches: {len(val_loader)}\")"
   ]
  },
  {
   "cell_type": "code",
   "execution_count": null,
   "metadata": {},
   "outputs": [],
   "source": [
    "model = PulseParameterNet(input_length=1024)\n",
    "trainer = ParameterTrainer(model, param_ranges)\n",
    "\n",
    "# Display model info\n",
    "total_params = sum(p.numel() for p in model.parameters())\n",
    "print(f\"\\nModel initialized:\")\n",
    "print(f\"Total parameters: {total_params:,}\")\n",
    "print(f\"Input pulse length: {1024}\")\n",
    "print(f\"Device: {trainer.device}\")"
   ]
  },
  {
   "cell_type": "code",
   "execution_count": null,
   "metadata": {},
   "outputs": [],
   "source": [
    "num_epochs = 100\n",
    "lr = 0.001\n",
    "\n",
    "# Train model\n",
    "print(f\"\\nStarting training for {num_epochs} epochs...\")\n",
    "final_metrics = trainer.train(train_loader, val_loader, \n",
    "                                num_epochs=num_epochs, lr=lr,\n",
    "                                experiment_name=None)"
   ]
  },
  {
   "cell_type": "code",
   "execution_count": null,
   "metadata": {},
   "outputs": [],
   "source": [
    "# Print final results\n",
    "print(\"\\n\" + \"=\"*80)\n",
    "print(\"FINAL RESULTS\")\n",
    "print(\"=\"*80)\n",
    "print(f\"Overall R²: {final_metrics['overall']['r2']:.4f}\")\n",
    "print(f\"Overall RMSE: {final_metrics['overall']['rmse']:.6f}\")\n",
    "print(f\"Overall MAE: {final_metrics['overall']['mae']:.6f}\")\n",
    "print(f\"Average Tolerance Satisfaction: {final_metrics['avg_tolerance_satisfaction']:.4f}\")\n",
    "\n",
    "print(\"\\nPer-parameter results:\")\n",
    "print(f\"{'Parameter':<12} {'R²':<8} {'RMSE':<12} {'MAE':<12} {'Within Tol':<12} {'Target Tol':<12}\")\n",
    "print(\"-\" * 80)\n",
    "\n",
    "for param, metrics in final_metrics['parameters'].items():\n",
    "    print(f\"{param:<12} {metrics['r2']:<8.4f} {metrics['rmse']:<12.6f} \"\n",
    "            f\"{metrics['mae']:<12.6f} {metrics['within_tolerance']:<12.3f} \"\n",
    "            f\"{metrics['tolerance']:<12.6f}\")\n",
    "\n",
    "# Plot training history\n",
    "trainer.plot_training_history()"
   ]
  },
  {
   "cell_type": "code",
   "execution_count": null,
   "metadata": {},
   "outputs": [],
   "source": [
    "model.eval()\n",
    "\n",
    "all_predictions = []\n",
    "all_targets = []\n",
    "\n",
    "\n",
    "with torch.no_grad():\n",
    "    for pulses, params in val_loader:\n",
    "        pulses = pulses.to(device)\n",
    "        params = params.to(device)\n",
    "        \n",
    "        predictions = model(pulses)\n",
    "        all_predictions.append(predictions.cpu())\n",
    "        all_targets.append(params.cpu())\n",
    "\n",
    "# Parameter labels and types\n",
    "param_labels = [\n",
    "    r\"$n_1$\", r\"$k_1$\", r\"$d_1$ [$\\mu$m]\",\n",
    "    r\"$n_2$\", r\"$k_2$\", r\"$d_2$ [$\\mu$m]\",\n",
    "    r\"$n_3$\", r\"$k_3$\", r\"$d_3$ [$\\mu$m]\"\n",
    "]\n",
    "\n",
    "thickness_indices = [2, 5, 8]  # positions of d1, d2, d3\n",
    "\n",
    "preds_plot = denormalize_material_params(all_predictions[0].clone())\n",
    "targets_plot = denormalize_material_params(all_targets[0].clone())\n",
    "\n",
    "preds_plot[:, thickness_indices] *= 1e6\n",
    "targets_plot[:, thickness_indices] *= 1e6\n",
    "\n",
    "# Create figure\n",
    "fig, axes = plt.subplots(3, 3, figsize=(12, 12))\n",
    "axes = axes.flatten()\n",
    "\n",
    "for i in range(9):\n",
    "    ax = axes[i]\n",
    "    sns.scatterplot(\n",
    "        x=targets_plot[:, i],\n",
    "        y=preds_plot[:, i],\n",
    "        ax=ax,\n",
    "        s=5, color='blue', alpha=0.6, edgecolor=None\n",
    "    )\n",
    "\n",
    "    # Add 45° perfect prediction line\n",
    "    min_val = min(targets_plot[:, i].min(), preds_plot[:, i].min())\n",
    "    max_val = max(targets_plot[:, i].max(), preds_plot[:, i].max())\n",
    "    ax.plot([min_val, max_val], [min_val, max_val], 'r--', lw=1)\n",
    "\n",
    "    ax.set_xlabel(f\"Target {param_labels[i]}\")\n",
    "    ax.set_ylabel(f\"Predicted {param_labels[i]}\")\n",
    "    ax.set_title(param_labels[i])\n",
    "    ax.set_aspect('equal', adjustable='box')\n",
    "\n",
    "plt.tight_layout()\n",
    "plt.show()"
   ]
  }
 ],
 "metadata": {
  "kernelspec": {
   "display_name": "modelling",
   "language": "python",
   "name": "python3"
  },
  "language_info": {
   "codemirror_mode": {
    "name": "ipython",
    "version": 3
   },
   "file_extension": ".py",
   "mimetype": "text/x-python",
   "name": "python",
   "nbconvert_exporter": "python",
   "pygments_lexer": "ipython3",
   "version": "3.12.9"
  }
 },
 "nbformat": 4,
 "nbformat_minor": 2
}
