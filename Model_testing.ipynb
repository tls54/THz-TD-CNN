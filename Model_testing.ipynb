{
 "cells": [
  {
   "cell_type": "markdown",
   "metadata": {},
   "source": [
    "# Test Various CNN architectures on the layer identification task\n"
   ]
  },
  {
   "cell_type": "code",
   "execution_count": 1,
   "metadata": {},
   "outputs": [],
   "source": [
    "import torch\n",
    "import torch.nn as nn\n",
    "import torch.optim as optim\n",
    "import matplotlib.pyplot as plt\n",
    "import seaborn as sns\n",
    "from sklearn.metrics import confusion_matrix, accuracy_score\n",
    "from torch.utils.data import DataLoader, TensorDataset\n",
    "from tqdm import tqdm\n",
    "from Classifier_models import CNN1D_Small, CNN1D_Large, train_model, identify_device"
   ]
  },
  {
   "cell_type": "markdown",
   "metadata": {},
   "source": [
    "## Import Data "
   ]
  },
  {
   "cell_type": "code",
   "execution_count": 2,
   "metadata": {},
   "outputs": [
    {
     "name": "stdout",
     "output_type": "stream",
     "text": [
      "Using device: mps\n"
     ]
    }
   ],
   "source": [
    "device = identify_device()"
   ]
  },
  {
   "cell_type": "code",
   "execution_count": 3,
   "metadata": {},
   "outputs": [
    {
     "name": "stdout",
     "output_type": "stream",
     "text": [
      "Dataset loaded successfully!\n",
      "Number of samples: 60000\n",
      "Shape of synthetic_data: torch.Size([60000, 1024])\n",
      "Shape of num_layers: torch.Size([60000])\n",
      "Example number of layers: tensor([1, 1, 3, 1, 2, 2, 1, 2, 2, 1])\n"
     ]
    }
   ],
   "source": [
    "# Load the dataset with weights_only=False\n",
    "data = torch.load(\"Synthetic_data_60k.pt\", weights_only=False)\n",
    "\n",
    "# Extract components\n",
    "synthetic_data = data[\"synthetic_data\"]\n",
    "material_params = data[\"material_params\"]\n",
    "num_layers = data[\"num_layers\"]\n",
    "\n",
    "print(\"Dataset loaded successfully!\")\n",
    "print(f\"Number of samples: {len(synthetic_data)}\")\n",
    "print(f\"Shape of synthetic_data: {synthetic_data.shape}\")\n",
    "print(f\"Shape of num_layers: {num_layers.shape}\")\n",
    "print(f\"Example number of layers: {num_layers[:10]}\")\n",
    "\n",
    "num_classes = int(max(num_layers)) # class labels start at 1 not 0."
   ]
  },
  {
   "cell_type": "code",
   "execution_count": 4,
   "metadata": {},
   "outputs": [
    {
     "name": "stdout",
     "output_type": "stream",
     "text": [
      "synthetic_data shape (after unsqueeze): torch.Size([60000, 1, 1024])\n",
      "num_layers (original): tensor([1, 1, 3, 1, 2, 2, 1, 2, 2, 1])\n",
      "num_layers_adjusted (for training): tensor([0, 0, 2, 0, 1, 1, 0, 1, 1, 0])\n"
     ]
    }
   ],
   "source": [
    "# Adjust labels for training (CrossEntropyLoss expects 0-based class labels)\n",
    "num_layers_adjusted = num_layers - 1  # Convert labels from 1–5 → 0–4\n",
    "\n",
    "# Ensure shapes are as expected\n",
    "print(\"synthetic_data shape (after unsqueeze):\", synthetic_data.unsqueeze(1).shape)\n",
    "print(\"num_layers (original):\", num_layers[:10])\n",
    "print(\"num_layers_adjusted (for training):\", num_layers_adjusted[:10])\n"
   ]
  },
  {
   "cell_type": "code",
   "execution_count": 5,
   "metadata": {},
   "outputs": [],
   "source": [
    "num_classes = int(num_layers_adjusted.max().item()) + 1  # e.g., 5 if max label is 4\n",
    "batch_size = 1024\n",
    "\n",
    "# Unsqueeze to add channel dimension for Conv1D input: [B, 1, 1024]\n",
    "synthetic_data = synthetic_data.unsqueeze(1)  # [100, 1, 1024]\n",
    "\n",
    "# Create TensorDataset with adjusted labels\n",
    "train_dataset = TensorDataset(synthetic_data, num_layers_adjusted)\n",
    "train_loader = DataLoader(train_dataset, batch_size=batch_size, shuffle=True)"
   ]
  },
  {
   "cell_type": "markdown",
   "metadata": {},
   "source": [
    "## Train and Test Small CNN"
   ]
  },
  {
   "cell_type": "code",
   "execution_count": 6,
   "metadata": {},
   "outputs": [
    {
     "name": "stdout",
     "output_type": "stream",
     "text": [
      "Data shape: torch.Size([60000, 1, 1024])\n",
      "Label range: 0 to 2\n",
      "Number of classes: 3\n"
     ]
    }
   ],
   "source": [
    "# Initialize the model, criterion, and optimizer\n",
    "model = CNN1D_Small(input_channels=1, num_classes=num_classes).to(device=device)\n",
    "criterion = nn.CrossEntropyLoss()\n",
    "optimizer = optim.Adam(model.parameters(), lr=0.001)\n",
    "\n",
    "# Optional: Print shapes and label stats for sanity check\n",
    "print(\"Data shape:\", synthetic_data.shape)\n",
    "print(\"Label range:\", num_layers_adjusted.min().item(), \"to\", num_layers_adjusted.max().item())\n",
    "print(\"Number of classes:\", num_classes)"
   ]
  },
  {
   "cell_type": "code",
   "execution_count": 7,
   "metadata": {},
   "outputs": [
    {
     "name": "stderr",
     "output_type": "stream",
     "text": [
      "Epoch 1/10: 100%|██████████| 59/59 [00:04<00:00, 11.81batch/s, loss=1.1]\n"
     ]
    },
    {
     "name": "stdout",
     "output_type": "stream",
     "text": [
      "Epoch [1/10], Loss: 1.0980\n"
     ]
    },
    {
     "name": "stderr",
     "output_type": "stream",
     "text": [
      "Epoch 2/10: 100%|██████████| 59/59 [00:04<00:00, 13.01batch/s, loss=1.02]\n"
     ]
    },
    {
     "name": "stdout",
     "output_type": "stream",
     "text": [
      "Epoch [2/10], Loss: 1.0192\n"
     ]
    },
    {
     "name": "stderr",
     "output_type": "stream",
     "text": [
      "Epoch 3/10: 100%|██████████| 59/59 [00:04<00:00, 12.55batch/s, loss=0.921]\n"
     ]
    },
    {
     "name": "stdout",
     "output_type": "stream",
     "text": [
      "Epoch [3/10], Loss: 0.9209\n"
     ]
    },
    {
     "name": "stderr",
     "output_type": "stream",
     "text": [
      "Epoch 4/10: 100%|██████████| 59/59 [00:04<00:00, 13.19batch/s, loss=0.909]\n"
     ]
    },
    {
     "name": "stdout",
     "output_type": "stream",
     "text": [
      "Epoch [4/10], Loss: 0.9092\n"
     ]
    },
    {
     "name": "stderr",
     "output_type": "stream",
     "text": [
      "Epoch 5/10: 100%|██████████| 59/59 [00:04<00:00, 12.66batch/s, loss=0.901]\n"
     ]
    },
    {
     "name": "stdout",
     "output_type": "stream",
     "text": [
      "Epoch [5/10], Loss: 0.9011\n"
     ]
    },
    {
     "name": "stderr",
     "output_type": "stream",
     "text": [
      "Epoch 6/10: 100%|██████████| 59/59 [00:04<00:00, 13.13batch/s, loss=0.895]\n"
     ]
    },
    {
     "name": "stdout",
     "output_type": "stream",
     "text": [
      "Epoch [6/10], Loss: 0.8953\n"
     ]
    },
    {
     "name": "stderr",
     "output_type": "stream",
     "text": [
      "Epoch 7/10: 100%|██████████| 59/59 [00:04<00:00, 12.27batch/s, loss=0.886]\n"
     ]
    },
    {
     "name": "stdout",
     "output_type": "stream",
     "text": [
      "Epoch [7/10], Loss: 0.8856\n"
     ]
    },
    {
     "name": "stderr",
     "output_type": "stream",
     "text": [
      "Epoch 8/10: 100%|██████████| 59/59 [00:04<00:00, 13.16batch/s, loss=0.875]\n"
     ]
    },
    {
     "name": "stdout",
     "output_type": "stream",
     "text": [
      "Epoch [8/10], Loss: 0.8754\n"
     ]
    },
    {
     "name": "stderr",
     "output_type": "stream",
     "text": [
      "Epoch 9/10: 100%|██████████| 59/59 [00:04<00:00, 13.19batch/s, loss=0.863]\n"
     ]
    },
    {
     "name": "stdout",
     "output_type": "stream",
     "text": [
      "Epoch [9/10], Loss: 0.8628\n"
     ]
    },
    {
     "name": "stderr",
     "output_type": "stream",
     "text": [
      "Epoch 10/10: 100%|██████████| 59/59 [00:04<00:00, 12.66batch/s, loss=0.848]\n"
     ]
    },
    {
     "name": "stdout",
     "output_type": "stream",
     "text": [
      "Epoch [10/10], Loss: 0.8482\n"
     ]
    },
    {
     "data": {
      "image/png": "[encoded data removed]",
      "text/plain": [
       "<Figure size 640x480 with 1 Axes>"
      ]
     },
     "metadata": {},
     "output_type": "display_data"
    }
   ],
   "source": [
    "# Train the model\n",
    "loss_values = train_model(model, train_loader, criterion, optimizer, device=device, num_epochs=10)\n",
    "\n",
    "# Plot the loss values\n",
    "plt.plot(loss_values)\n",
    "plt.xlabel('Epochs')\n",
    "plt.ylabel('Loss')\n",
    "plt.title('Training Loss Progress')\n",
    "plt.show()"
   ]
  },
  {
   "cell_type": "code",
   "execution_count": 8,
   "metadata": {},
   "outputs": [
    {
     "name": "stdout",
     "output_type": "stream",
     "text": [
      "\n",
      "Validation Accuracy: 0.5920\n"
     ]
    },
    {
     "data": {
      "image/png": "[encoded data removed]",
      "text/plain": [
       "<Figure size 800x600 with 2 Axes>"
      ]
     },
     "metadata": {},
     "output_type": "display_data"
    }
   ],
   "source": [
    "# Load the validation dataset\n",
    "val_data = torch.load(\"Validation.pt\", weights_only=False)\n",
    "\n",
    "val_synthetic_data = val_data[\"synthetic_data\"]         # shape: [N, 1024]\n",
    "val_num_layers = val_data[\"num_layers\"]                 # shape: [N]\n",
    "val_num_layers_adjusted = val_num_layers - 1            # match training label indexing\n",
    "\n",
    "# Unsqueeze to match model input shape\n",
    "val_synthetic_data = val_synthetic_data.unsqueeze(1)    # shape: [N, 1, 1024]\n",
    "\n",
    "# Create DataLoader for validation\n",
    "val_dataset = TensorDataset(val_synthetic_data, val_num_layers_adjusted)\n",
    "val_loader = DataLoader(val_dataset, batch_size=64, shuffle=False)\n",
    "\n",
    "# Set model to evaluation mode\n",
    "model.eval()\n",
    "all_preds = []\n",
    "all_labels = []\n",
    "\n",
    "# Disable gradient computation for evaluation\n",
    "with torch.no_grad():\n",
    "    for inputs, labels in val_loader:\n",
    "        inputs = inputs.to(device)\n",
    "        labels = labels.to(device)\n",
    "\n",
    "        outputs = model(inputs)\n",
    "        _, preds = torch.max(outputs, 1)\n",
    "\n",
    "        all_preds.extend(preds.cpu().numpy())   # move back to CPU before numpy\n",
    "        all_labels.extend(labels.cpu().numpy())\n",
    "\n",
    "# Compute confusion matrix and accuracy\n",
    "cm = confusion_matrix(all_labels, all_preds)\n",
    "acc = accuracy_score(all_labels, all_preds)\n",
    "\n",
    "print(f\"\\Unseen dataset Accuracy: {acc:.4f}\")\n",
    "\n",
    "# Plot confusion matrix\n",
    "plt.figure(figsize=(8, 6))\n",
    "sns.heatmap(cm, annot=True, fmt=\"d\", cmap=\"Blues\",\n",
    "            xticklabels=[f\"{i+1}\" for i in range(cm.shape[0])],\n",
    "            yticklabels=[f\"{i+1}\" for i in range(cm.shape[0])])\n",
    "plt.xlabel(\"Predicted Label\")\n",
    "plt.ylabel(\"True Label\")\n",
    "plt.title(\"Confusion Matrix (Validation Set)\")\n",
    "plt.show()"
   ]
  },
  {
   "cell_type": "markdown",
   "metadata": {},
   "source": [
    "## Train and test Larger CNN"
   ]
  },
  {
   "cell_type": "code",
   "execution_count": 9,
   "metadata": {},
   "outputs": [
    {
     "name": "stdout",
     "output_type": "stream",
     "text": [
      "Data shape: torch.Size([60000, 1, 1024])\n",
      "Label range: 0 to 2\n",
      "Number of classes: 3\n"
     ]
    }
   ],
   "source": [
    "# Initialize the model, criterion, and optimizer\n",
    "model = CNN1D_Large(input_channels=1, num_classes=num_classes).to(device=device)\n",
    "criterion = nn.CrossEntropyLoss()\n",
    "optimizer = optim.Adam(model.parameters(), lr=0.001)\n",
    "\n",
    "# Optional: Print shapes and label stats for sanity check\n",
    "print(\"Data shape:\", synthetic_data.shape)\n",
    "print(\"Label range:\", num_layers_adjusted.min().item(), \"to\", num_layers_adjusted.max().item())\n",
    "print(\"Number of classes:\", num_classes)"
   ]
  },
  {
   "cell_type": "code",
   "execution_count": 10,
   "metadata": {},
   "outputs": [
    {
     "name": "stderr",
     "output_type": "stream",
     "text": [
      "Epoch 1/10: 100%|██████████| 59/59 [00:21<00:00,  2.81batch/s, loss=0.58] \n"
     ]
    },
    {
     "name": "stdout",
     "output_type": "stream",
     "text": [
      "Epoch [1/10], Loss: 0.5799\n"
     ]
    },
    {
     "name": "stderr",
     "output_type": "stream",
     "text": [
      "Epoch 2/10: 100%|██████████| 59/59 [00:18<00:00,  3.11batch/s, loss=0.361]\n"
     ]
    },
    {
     "name": "stdout",
     "output_type": "stream",
     "text": [
      "Epoch [2/10], Loss: 0.3613\n"
     ]
    },
    {
     "name": "stderr",
     "output_type": "stream",
     "text": [
      "Epoch 3/10: 100%|██████████| 59/59 [00:18<00:00,  3.18batch/s, loss=0.314]\n"
     ]
    },
    {
     "name": "stdout",
     "output_type": "stream",
     "text": [
      "Epoch [3/10], Loss: 0.3139\n"
     ]
    },
    {
     "name": "stderr",
     "output_type": "stream",
     "text": [
      "Epoch 4/10: 100%|██████████| 59/59 [00:18<00:00,  3.26batch/s, loss=0.284]\n"
     ]
    },
    {
     "name": "stdout",
     "output_type": "stream",
     "text": [
      "Epoch [4/10], Loss: 0.2839\n"
     ]
    },
    {
     "name": "stderr",
     "output_type": "stream",
     "text": [
      "Epoch 5/10: 100%|██████████| 59/59 [00:17<00:00,  3.30batch/s, loss=0.253]\n"
     ]
    },
    {
     "name": "stdout",
     "output_type": "stream",
     "text": [
      "Epoch [5/10], Loss: 0.2525\n"
     ]
    },
    {
     "name": "stderr",
     "output_type": "stream",
     "text": [
      "Epoch 6/10: 100%|██████████| 59/59 [00:17<00:00,  3.29batch/s, loss=0.241]\n"
     ]
    },
    {
     "name": "stdout",
     "output_type": "stream",
     "text": [
      "Epoch [6/10], Loss: 0.2415\n"
     ]
    },
    {
     "name": "stderr",
     "output_type": "stream",
     "text": [
      "Epoch 7/10: 100%|██████████| 59/59 [00:18<00:00,  3.21batch/s, loss=0.237]\n"
     ]
    },
    {
     "name": "stdout",
     "output_type": "stream",
     "text": [
      "Epoch [7/10], Loss: 0.2367\n"
     ]
    },
    {
     "name": "stderr",
     "output_type": "stream",
     "text": [
      "Epoch 8/10: 100%|██████████| 59/59 [00:18<00:00,  3.16batch/s, loss=0.226]\n"
     ]
    },
    {
     "name": "stdout",
     "output_type": "stream",
     "text": [
      "Epoch [8/10], Loss: 0.2258\n"
     ]
    },
    {
     "name": "stderr",
     "output_type": "stream",
     "text": [
      "Epoch 9/10: 100%|██████████| 59/59 [00:18<00:00,  3.17batch/s, loss=0.221]\n"
     ]
    },
    {
     "name": "stdout",
     "output_type": "stream",
     "text": [
      "Epoch [9/10], Loss: 0.2213\n"
     ]
    },
    {
     "name": "stderr",
     "output_type": "stream",
     "text": [
      "Epoch 10/10: 100%|██████████| 59/59 [00:18<00:00,  3.15batch/s, loss=0.208]\n"
     ]
    },
    {
     "name": "stdout",
     "output_type": "stream",
     "text": [
      "Epoch [10/10], Loss: 0.2081\n"
     ]
    },
    {
     "data": {
      "image/png": "[encoded data removed]",
      "text/plain": [
       "<Figure size 640x480 with 1 Axes>"
      ]
     },
     "metadata": {},
     "output_type": "display_data"
    }
   ],
   "source": [
    "# Train the model\n",
    "loss_values = train_model(model, train_loader, criterion, optimizer, device=device, num_epochs=10)\n",
    "\n",
    "# Plot the loss values\n",
    "plt.plot(loss_values)\n",
    "plt.xlabel('Epochs')\n",
    "plt.ylabel('Loss')\n",
    "plt.title('Training Loss Progress')\n",
    "plt.show()"
   ]
  },
  {
   "cell_type": "code",
   "execution_count": 11,
   "metadata": {},
   "outputs": [
    {
     "name": "stdout",
     "output_type": "stream",
     "text": [
      "\n",
      "Validation Accuracy: 0.3376\n"
     ]
    },
    {
     "data": {
      "image/png": "[encoded data removed]",
      "text/plain": [
       "<Figure size 800x600 with 2 Axes>"
      ]
     },
     "metadata": {},
     "output_type": "display_data"
    }
   ],
   "source": [
    "# Load the validation dataset\n",
    "val_data = torch.load(\"Validation.pt\", weights_only=False)\n",
    "\n",
    "val_synthetic_data = val_data[\"synthetic_data\"]         # shape: [N, 1024]\n",
    "val_num_layers = val_data[\"num_layers\"]                 # shape: [N]\n",
    "val_num_layers_adjusted = val_num_layers - 1            # match training label indexing\n",
    "\n",
    "# Unsqueeze to match model input shape\n",
    "val_synthetic_data = val_synthetic_data.unsqueeze(1)    # shape: [N, 1, 1024]\n",
    "\n",
    "# Create DataLoader for validation\n",
    "val_dataset = TensorDataset(val_synthetic_data, val_num_layers_adjusted)\n",
    "val_loader = DataLoader(val_dataset, batch_size=64, shuffle=False)\n",
    "\n",
    "# Set model to evaluation mode\n",
    "model.eval()\n",
    "all_preds = []\n",
    "all_labels = []\n",
    "\n",
    "# Disable gradient computation for evaluation\n",
    "with torch.no_grad():\n",
    "    for inputs, labels in val_loader:\n",
    "        inputs = inputs.to(device)\n",
    "        labels = labels.to(device)\n",
    "\n",
    "        outputs = model(inputs)\n",
    "        _, preds = torch.max(outputs, 1)\n",
    "\n",
    "        all_preds.extend(preds.cpu().numpy())   # move back to CPU before numpy\n",
    "        all_labels.extend(labels.cpu().numpy())\n",
    "\n",
    "# Compute confusion matrix and accuracy\n",
    "cm = confusion_matrix(all_labels, all_preds)\n",
    "acc = accuracy_score(all_labels, all_preds)\n",
    "\n",
    "print(f\"\\nValidation Accuracy: {acc:.4f}\")\n",
    "\n",
    "# Plot confusion matrix\n",
    "plt.figure(figsize=(8, 6))\n",
    "sns.heatmap(cm, annot=True, fmt=\"d\", cmap=\"Blues\",\n",
    "            xticklabels=[f\"{i+1}\" for i in range(cm.shape[0])],\n",
    "            yticklabels=[f\"{i+1}\" for i in range(cm.shape[0])])\n",
    "plt.xlabel(\"Predicted Label\")\n",
    "plt.ylabel(\"True Label\")\n",
    "plt.title(\"Confusion Matrix (Validation Set)\")\n",
    "plt.show()"
   ]
  }
 ],
 "metadata": {
  "kernelspec": {
   "display_name": "modelling",
   "language": "python",
   "name": "python3"
  },
  "language_info": {
   "codemirror_mode": {
    "name": "ipython",
    "version": 3
   },
   "file_extension": ".py",
   "mimetype": "text/x-python",
   "name": "python",
   "nbconvert_exporter": "python",
   "pygments_lexer": "ipython3",
   "version": "3.11.11"
  }
 },
 "nbformat": 4,
 "nbformat_minor": 2
}
